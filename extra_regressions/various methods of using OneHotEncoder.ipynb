{
 "cells": [
  {
   "cell_type": "code",
   "execution_count": 1,
   "metadata": {},
   "outputs": [],
   "source": [
    "#one -hot encoding using python\n",
    "import numpy as np\n",
    "import pandas as pd"
   ]
  },
  {
   "cell_type": "code",
   "execution_count": 2,
   "metadata": {},
   "outputs": [
    {
     "name": "stdout",
     "output_type": "stream",
     "text": [
      "   Hours  Scores\n",
      "0    2.5      21\n",
      "1    5.1      47\n",
      "2    3.2      27\n",
      "3    8.5      75\n",
      "4    3.5      30\n"
     ]
    }
   ],
   "source": [
    "#import the data required\n",
    "data = pd.read_csv('studentscores.csv')\n",
    "print(data.head())"
   ]
  },
  {
   "cell_type": "code",
   "execution_count": 3,
   "metadata": {},
   "outputs": [
    {
     "name": "stdout",
     "output_type": "stream",
     "text": [
      "[2.5 5.1 3.2 8.5 3.5 1.5 9.2 5.5 8.3 2.7 7.7 5.9 4.5 3.3 1.1 8.9 1.9 6.1\n",
      " 7.4 4.8 3.8 6.9 7.8]\n",
      "[21 47 27 75 30 20 88 60 81 25 85 62 41 42 17 95 24 67 69 54 35 76 86]\n"
     ]
    }
   ],
   "source": [
    "#we can use the unique finction from pandas library to get unique elememtns from the columns of the data\n",
    "print(data['Hours'].unique())\n",
    "print(data['Scores'].unique())"
   ]
  },
  {
   "cell_type": "code",
   "execution_count": 4,
   "metadata": {},
   "outputs": [
    {
     "data": {
      "text/plain": [
       "30    3\n",
       "21    1\n",
       "41    1\n",
       "76    1\n",
       "35    1\n",
       "54    1\n",
       "69    1\n",
       "67    1\n",
       "24    1\n",
       "95    1\n",
       "17    1\n",
       "42    1\n",
       "62    1\n",
       "47    1\n",
       "85    1\n",
       "25    1\n",
       "81    1\n",
       "60    1\n",
       "88    1\n",
       "20    1\n",
       "75    1\n",
       "27    1\n",
       "86    1\n",
       "Name: Scores, dtype: int64"
      ]
     },
     "execution_count": 4,
     "metadata": {},
     "output_type": "execute_result"
    }
   ],
   "source": [
    "#we can usevalue.counts() function to get the count of the data from the dataset\n",
    "data['Hours'].value_counts()\n",
    "data['Scores'].value_counts()"
   ]
  },
  {
   "cell_type": "code",
   "execution_count": 5,
   "metadata": {},
   "outputs": [
    {
     "name": "stdout",
     "output_type": "stream",
     "text": [
      "    Hours_1.1  Hours_1.5  Hours_1.9  Hours_2.5  Hours_2.7  Hours_3.2  \\\n",
      "0           0          0          0          1          0          0   \n",
      "1           0          0          0          0          0          0   \n",
      "2           0          0          0          0          0          1   \n",
      "3           0          0          0          0          0          0   \n",
      "4           0          0          0          0          0          0   \n",
      "5           0          1          0          0          0          0   \n",
      "6           0          0          0          0          0          0   \n",
      "7           0          0          0          0          0          0   \n",
      "8           0          0          0          0          0          0   \n",
      "9           0          0          0          0          1          0   \n",
      "10          0          0          0          0          0          0   \n",
      "11          0          0          0          0          0          0   \n",
      "12          0          0          0          0          0          0   \n",
      "13          0          0          0          0          0          0   \n",
      "14          1          0          0          0          0          0   \n",
      "15          0          0          0          0          0          0   \n",
      "16          0          0          0          1          0          0   \n",
      "17          0          0          1          0          0          0   \n",
      "18          0          0          0          0          0          0   \n",
      "19          0          0          0          0          0          0   \n",
      "20          0          0          0          0          1          0   \n",
      "21          0          0          0          0          0          0   \n",
      "22          0          0          0          0          0          0   \n",
      "23          0          0          0          0          0          0   \n",
      "24          0          0          0          0          0          0   \n",
      "\n",
      "    Hours_3.3  Hours_3.5  Hours_3.8  Hours_4.5  ...  Scores_62  Scores_67  \\\n",
      "0           0          0          0          0  ...          0          0   \n",
      "1           0          0          0          0  ...          0          0   \n",
      "2           0          0          0          0  ...          0          0   \n",
      "3           0          0          0          0  ...          0          0   \n",
      "4           0          1          0          0  ...          0          0   \n",
      "5           0          0          0          0  ...          0          0   \n",
      "6           0          0          0          0  ...          0          0   \n",
      "7           0          0          0          0  ...          0          0   \n",
      "8           0          0          0          0  ...          0          0   \n",
      "9           0          0          0          0  ...          0          0   \n",
      "10          0          0          0          0  ...          0          0   \n",
      "11          0          0          0          0  ...          1          0   \n",
      "12          0          0          0          1  ...          0          0   \n",
      "13          1          0          0          0  ...          0          0   \n",
      "14          0          0          0          0  ...          0          0   \n",
      "15          0          0          0          0  ...          0          0   \n",
      "16          0          0          0          0  ...          0          0   \n",
      "17          0          0          0          0  ...          0          0   \n",
      "18          0          0          0          0  ...          0          1   \n",
      "19          0          0          0          0  ...          0          0   \n",
      "20          0          0          0          0  ...          0          0   \n",
      "21          0          0          0          0  ...          0          0   \n",
      "22          0          0          1          0  ...          0          0   \n",
      "23          0          0          0          0  ...          0          0   \n",
      "24          0          0          0          0  ...          0          0   \n",
      "\n",
      "    Scores_69  Scores_75  Scores_76  Scores_81  Scores_85  Scores_86  \\\n",
      "0           0          0          0          0          0          0   \n",
      "1           0          0          0          0          0          0   \n",
      "2           0          0          0          0          0          0   \n",
      "3           0          1          0          0          0          0   \n",
      "4           0          0          0          0          0          0   \n",
      "5           0          0          0          0          0          0   \n",
      "6           0          0          0          0          0          0   \n",
      "7           0          0          0          0          0          0   \n",
      "8           0          0          0          1          0          0   \n",
      "9           0          0          0          0          0          0   \n",
      "10          0          0          0          0          1          0   \n",
      "11          0          0          0          0          0          0   \n",
      "12          0          0          0          0          0          0   \n",
      "13          0          0          0          0          0          0   \n",
      "14          0          0          0          0          0          0   \n",
      "15          0          0          0          0          0          0   \n",
      "16          0          0          0          0          0          0   \n",
      "17          0          0          0          0          0          0   \n",
      "18          0          0          0          0          0          0   \n",
      "19          1          0          0          0          0          0   \n",
      "20          0          0          0          0          0          0   \n",
      "21          0          0          0          0          0          0   \n",
      "22          0          0          0          0          0          0   \n",
      "23          0          0          1          0          0          0   \n",
      "24          0          0          0          0          0          1   \n",
      "\n",
      "    Scores_88  Scores_95  \n",
      "0           0          0  \n",
      "1           0          0  \n",
      "2           0          0  \n",
      "3           0          0  \n",
      "4           0          0  \n",
      "5           0          0  \n",
      "6           1          0  \n",
      "7           0          0  \n",
      "8           0          0  \n",
      "9           0          0  \n",
      "10          0          0  \n",
      "11          0          0  \n",
      "12          0          0  \n",
      "13          0          0  \n",
      "14          0          0  \n",
      "15          0          1  \n",
      "16          0          0  \n",
      "17          0          0  \n",
      "18          0          0  \n",
      "19          0          0  \n",
      "20          0          0  \n",
      "21          0          0  \n",
      "22          0          0  \n",
      "23          0          0  \n",
      "24          0          0  \n",
      "\n",
      "[25 rows x 46 columns]\n"
     ]
    }
   ],
   "source": [
    "#we can use pd.get_dummmies() function from pandas to one-hot encode the categorical data from the categorical columns.\n",
    "one_hot_encoded_data = pd.get_dummies(data, columns = ['Hours', 'Scores'])\n",
    "print(one_hot_encoded_data)"
   ]
  },
  {
   "cell_type": "code",
   "execution_count": 7,
   "metadata": {},
   "outputs": [],
   "source": [
    "#one hot encoding using scikit learn library\n",
    "#importing the libraries\n",
    "import pandas as pd\n",
    "import numpy as np\n",
    "from sklearn.preprocessing import OneHotEncoder\n",
    "\n",
    "#retrieving data\n",
    "data = pd.read_csv('studentscores.csv')\n",
    "\n",
    "#converting type of columns to category\n",
    "data['Hours'] = data['Hours'].astype('category')\n",
    "data['Scores'] = data['Scores'].astype('category')\n"
   ]
  },
  {
   "cell_type": "code",
   "execution_count": 9,
   "metadata": {},
   "outputs": [],
   "source": [
    "#assigning the numerical values and stoing it in another columns\n",
    "data['Gen_new'] = data['Hours'].cat.codes\n",
    "data['Rem_new'] = data['Scores'].cat.codes"
   ]
  },
  {
   "cell_type": "code",
   "execution_count": 10,
   "metadata": {},
   "outputs": [
    {
     "name": "stdout",
     "output_type": "stream",
     "text": [
      "   Hours Scores  Gen_new  Rem_new    0    1    2    3    4    5  ...   36  \\\n",
      "0    2.5     21        3        2  0.0  0.0  0.0  1.0  0.0  0.0  ...  0.0   \n",
      "1    5.1     47       11       10  0.0  0.0  0.0  0.0  0.0  0.0  ...  0.0   \n",
      "2    3.2     27        5        5  0.0  0.0  0.0  0.0  0.0  1.0  ...  0.0   \n",
      "3    8.5     75       20       16  0.0  0.0  0.0  0.0  0.0  0.0  ...  0.0   \n",
      "4    3.5     30        7        6  0.0  0.0  0.0  0.0  0.0  0.0  ...  0.0   \n",
      "5    1.5     20        1        1  0.0  1.0  0.0  0.0  0.0  0.0  ...  0.0   \n",
      "6    9.2     88       22       21  0.0  0.0  0.0  0.0  0.0  0.0  ...  0.0   \n",
      "7    5.5     60       12       12  0.0  0.0  0.0  0.0  0.0  0.0  ...  0.0   \n",
      "8    8.3     81       19       18  0.0  0.0  0.0  0.0  0.0  0.0  ...  0.0   \n",
      "9    2.7     25        4        4  0.0  0.0  0.0  0.0  1.0  0.0  ...  0.0   \n",
      "10   7.7     85       17       19  0.0  0.0  0.0  0.0  0.0  0.0  ...  0.0   \n",
      "11   5.9     62       13       13  0.0  0.0  0.0  0.0  0.0  0.0  ...  1.0   \n",
      "12   4.5     41        9        8  0.0  0.0  0.0  0.0  0.0  0.0  ...  0.0   \n",
      "13   3.3     42        6        9  0.0  0.0  0.0  0.0  0.0  0.0  ...  0.0   \n",
      "14   1.1     17        0        0  1.0  0.0  0.0  0.0  0.0  0.0  ...  0.0   \n",
      "15   8.9     95       21       22  0.0  0.0  0.0  0.0  0.0  0.0  ...  0.0   \n",
      "16   2.5     30        3        6  0.0  0.0  0.0  1.0  0.0  0.0  ...  0.0   \n",
      "17   1.9     24        2        3  0.0  0.0  1.0  0.0  0.0  0.0  ...  0.0   \n",
      "18   6.1     67       14       14  0.0  0.0  0.0  0.0  0.0  0.0  ...  0.0   \n",
      "19   7.4     69       16       15  0.0  0.0  0.0  0.0  0.0  0.0  ...  0.0   \n",
      "20   2.7     30        4        6  0.0  0.0  0.0  0.0  1.0  0.0  ...  0.0   \n",
      "21   4.8     54       10       11  0.0  0.0  0.0  0.0  0.0  0.0  ...  0.0   \n",
      "22   3.8     35        8        7  0.0  0.0  0.0  0.0  0.0  0.0  ...  0.0   \n",
      "23   6.9     76       15       17  0.0  0.0  0.0  0.0  0.0  0.0  ...  0.0   \n",
      "24   7.8     86       18       20  0.0  0.0  0.0  0.0  0.0  0.0  ...  0.0   \n",
      "\n",
      "     37   38   39   40   41   42   43   44   45  \n",
      "0   0.0  0.0  0.0  0.0  0.0  0.0  0.0  0.0  0.0  \n",
      "1   0.0  0.0  0.0  0.0  0.0  0.0  0.0  0.0  0.0  \n",
      "2   0.0  0.0  0.0  0.0  0.0  0.0  0.0  0.0  0.0  \n",
      "3   0.0  0.0  1.0  0.0  0.0  0.0  0.0  0.0  0.0  \n",
      "4   0.0  0.0  0.0  0.0  0.0  0.0  0.0  0.0  0.0  \n",
      "5   0.0  0.0  0.0  0.0  0.0  0.0  0.0  0.0  0.0  \n",
      "6   0.0  0.0  0.0  0.0  0.0  0.0  0.0  1.0  0.0  \n",
      "7   0.0  0.0  0.0  0.0  0.0  0.0  0.0  0.0  0.0  \n",
      "8   0.0  0.0  0.0  0.0  1.0  0.0  0.0  0.0  0.0  \n",
      "9   0.0  0.0  0.0  0.0  0.0  0.0  0.0  0.0  0.0  \n",
      "10  0.0  0.0  0.0  0.0  0.0  1.0  0.0  0.0  0.0  \n",
      "11  0.0  0.0  0.0  0.0  0.0  0.0  0.0  0.0  0.0  \n",
      "12  0.0  0.0  0.0  0.0  0.0  0.0  0.0  0.0  0.0  \n",
      "13  0.0  0.0  0.0  0.0  0.0  0.0  0.0  0.0  0.0  \n",
      "14  0.0  0.0  0.0  0.0  0.0  0.0  0.0  0.0  0.0  \n",
      "15  0.0  0.0  0.0  0.0  0.0  0.0  0.0  0.0  1.0  \n",
      "16  0.0  0.0  0.0  0.0  0.0  0.0  0.0  0.0  0.0  \n",
      "17  0.0  0.0  0.0  0.0  0.0  0.0  0.0  0.0  0.0  \n",
      "18  1.0  0.0  0.0  0.0  0.0  0.0  0.0  0.0  0.0  \n",
      "19  0.0  1.0  0.0  0.0  0.0  0.0  0.0  0.0  0.0  \n",
      "20  0.0  0.0  0.0  0.0  0.0  0.0  0.0  0.0  0.0  \n",
      "21  0.0  0.0  0.0  0.0  0.0  0.0  0.0  0.0  0.0  \n",
      "22  0.0  0.0  0.0  0.0  0.0  0.0  0.0  0.0  0.0  \n",
      "23  0.0  0.0  0.0  1.0  0.0  0.0  0.0  0.0  0.0  \n",
      "24  0.0  0.0  0.0  0.0  0.0  0.0  1.0  0.0  0.0  \n",
      "\n",
      "[25 rows x 50 columns]\n"
     ]
    }
   ],
   "source": [
    "#create an instance of one-hot-encoder\n",
    "enc = OneHotEncoder()\n",
    "\n",
    "#passing the ncoded columns\n",
    "enc_data = pd.DataFrame(enc.fit_transform(\n",
    "    data[['Gen_new', 'Rem_new']]).toarray()\n",
    ")\n",
    "\n",
    "#merge with main\n",
    "New_df = data.join(enc_data)\n",
    "\n",
    "print(New_df)"
   ]
  },
  {
   "cell_type": "code",
   "execution_count": null,
   "metadata": {},
   "outputs": [],
   "source": []
  }
 ],
 "metadata": {
  "kernelspec": {
   "display_name": "Python 3",
   "language": "python",
   "name": "python3"
  },
  "language_info": {
   "codemirror_mode": {
    "name": "ipython",
    "version": 3
   },
   "file_extension": ".py",
   "mimetype": "text/x-python",
   "name": "python",
   "nbconvert_exporter": "python",
   "pygments_lexer": "ipython3",
   "version": "3.9.13"
  },
  "orig_nbformat": 4
 },
 "nbformat": 4,
 "nbformat_minor": 2
}
